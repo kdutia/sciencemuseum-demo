{
 "cells": [
  {
   "cell_type": "code",
   "execution_count": 8,
   "metadata": {
    "scrolled": true
   },
   "outputs": [
    {
     "name": "stdout",
     "output_type": "stream",
     "text": [
      "Requirement already satisfied: plotly==4.5.0 in /Users/kalyan/.pyenv/versions/3.7.0/envs/trainatscale37/lib/python3.7/site-packages (4.5.0)\n",
      "Requirement already satisfied: six in /Users/kalyan/.pyenv/versions/3.7.0/envs/trainatscale37/lib/python3.7/site-packages (from plotly==4.5.0) (1.13.0)\n",
      "Requirement already satisfied: retrying>=1.3.3 in /Users/kalyan/.pyenv/versions/3.7.0/envs/trainatscale37/lib/python3.7/site-packages (from plotly==4.5.0) (1.3.3)\n",
      "\u001b[33mYou are using pip version 10.0.1, however version 19.3.1 is available.\n",
      "You should consider upgrading via the 'pip install --upgrade pip' command.\u001b[0m\n",
      "Collecting tensorflow==1.15.0\n",
      "\u001b[?25l  Downloading https://files.pythonhosted.org/packages/dc/65/a94519cd8b4fd61a7b002cb752bfc0c0e5faa25d1f43ec4f0a4705020126/tensorflow-1.15.0-cp37-cp37m-macosx_10_11_x86_64.whl (124.0MB)\n",
      "\u001b[K    100% |████████████████████████████████| 124.0MB 333kB/s eta 0:00:01   22% |███████▏                        | 27.6MB 4.6MB/s eta 0:00:21    33% |██████████▉                     | 41.9MB 2.0MB/s eta 0:00:41\n",
      "\u001b[?25hRequirement already satisfied: keras-preprocessing>=1.0.5 in /Users/kalyan/.pyenv/versions/3.7.0/envs/trainatscale37/lib/python3.7/site-packages (from tensorflow==1.15.0) (1.1.0)\n",
      "Collecting tensorflow-estimator==1.15.1 (from tensorflow==1.15.0)\n",
      "\u001b[?25l  Downloading https://files.pythonhosted.org/packages/de/62/2ee9cd74c9fa2fa450877847ba560b260f5d0fb70ee0595203082dafcc9d/tensorflow_estimator-1.15.1-py2.py3-none-any.whl (503kB)\n",
      "\u001b[K    100% |████████████████████████████████| 512kB 12.1MB/s ta 0:00:01\n",
      "\u001b[?25hRequirement already satisfied: grpcio>=1.8.6 in /Users/kalyan/.pyenv/versions/3.7.0/envs/trainatscale37/lib/python3.7/site-packages (from tensorflow==1.15.0) (1.26.0)\n",
      "Requirement already satisfied: termcolor>=1.1.0 in /Users/kalyan/.pyenv/versions/3.7.0/envs/trainatscale37/lib/python3.7/site-packages (from tensorflow==1.15.0) (1.1.0)\n",
      "Collecting wrapt>=1.11.1 (from tensorflow==1.15.0)\n",
      "  Using cached https://files.pythonhosted.org/packages/23/84/323c2415280bc4fc880ac5050dddfb3c8062c2552b34c2e512eb4aa68f79/wrapt-1.11.2.tar.gz\n",
      "Requirement already satisfied: absl-py>=0.7.0 in /Users/kalyan/.pyenv/versions/3.7.0/envs/trainatscale37/lib/python3.7/site-packages (from tensorflow==1.15.0) (0.9.0)\n",
      "Requirement already satisfied: six>=1.10.0 in /Users/kalyan/.pyenv/versions/3.7.0/envs/trainatscale37/lib/python3.7/site-packages (from tensorflow==1.15.0) (1.13.0)\n",
      "Requirement already satisfied: wheel>=0.26 in /Users/kalyan/.pyenv/versions/3.7.0/envs/trainatscale37/lib/python3.7/site-packages (from tensorflow==1.15.0) (0.33.6)\n",
      "Requirement already satisfied: numpy<2.0,>=1.16.0 in /Users/kalyan/.pyenv/versions/3.7.0/envs/trainatscale37/lib/python3.7/site-packages (from tensorflow==1.15.0) (1.18.1)\n",
      "Requirement already satisfied: protobuf>=3.6.1 in /Users/kalyan/.pyenv/versions/3.7.0/envs/trainatscale37/lib/python3.7/site-packages (from tensorflow==1.15.0) (3.11.2)\n",
      "Collecting gast==0.2.2 (from tensorflow==1.15.0)\n",
      "  Using cached https://files.pythonhosted.org/packages/4e/35/11749bf99b2d4e3cceb4d55ca22590b0d7c2c62b9de38ac4a4a7f4687421/gast-0.2.2.tar.gz\n",
      "Collecting google-pasta>=0.1.6 (from tensorflow==1.15.0)\n",
      "\u001b[?25l  Downloading https://files.pythonhosted.org/packages/c3/fd/1e86bc4837cc9a3a5faf3db9b1854aa04ad35b5f381f9648fbe81a6f94e4/google_pasta-0.1.8-py3-none-any.whl (57kB)\n",
      "\u001b[K    100% |████████████████████████████████| 61kB 431kB/s ta 0:00:01\n",
      "\u001b[?25hRequirement already satisfied: keras-applications>=1.0.8 in /Users/kalyan/.pyenv/versions/3.7.0/envs/trainatscale37/lib/python3.7/site-packages (from tensorflow==1.15.0) (1.0.8)\n",
      "Requirement already satisfied: astor>=0.6.0 in /Users/kalyan/.pyenv/versions/3.7.0/envs/trainatscale37/lib/python3.7/site-packages (from tensorflow==1.15.0) (0.8.1)\n",
      "Collecting opt-einsum>=2.3.2 (from tensorflow==1.15.0)\n",
      "\u001b[?25l  Downloading https://files.pythonhosted.org/packages/b8/83/755bd5324777875e9dff19c2e59daec837d0378c09196634524a3d7269ac/opt_einsum-3.1.0.tar.gz (69kB)\n",
      "\u001b[K    100% |████████████████████████████████| 71kB 7.4MB/s ta 0:00:011\n",
      "\u001b[?25hCollecting tensorboard<1.16.0,>=1.15.0 (from tensorflow==1.15.0)\n",
      "\u001b[?25l  Downloading https://files.pythonhosted.org/packages/1e/e9/d3d747a97f7188f48aa5eda486907f3b345cd409f0a0850468ba867db246/tensorboard-1.15.0-py3-none-any.whl (3.8MB)\n",
      "\u001b[K    100% |████████████████████████████████| 3.8MB 9.7MB/s eta 0:00:01\n",
      "\u001b[?25hRequirement already satisfied: setuptools in /Users/kalyan/.pyenv/versions/3.7.0/envs/trainatscale37/lib/python3.7/site-packages (from protobuf>=3.6.1->tensorflow==1.15.0) (39.0.1)\n",
      "Requirement already satisfied: h5py in /Users/kalyan/.pyenv/versions/3.7.0/envs/trainatscale37/lib/python3.7/site-packages (from keras-applications>=1.0.8->tensorflow==1.15.0) (2.10.0)\n",
      "Requirement already satisfied: markdown>=2.6.8 in /Users/kalyan/.pyenv/versions/3.7.0/envs/trainatscale37/lib/python3.7/site-packages (from tensorboard<1.16.0,>=1.15.0->tensorflow==1.15.0) (3.1.1)\n",
      "Requirement already satisfied: werkzeug>=0.11.15 in /Users/kalyan/.pyenv/versions/3.7.0/envs/trainatscale37/lib/python3.7/site-packages (from tensorboard<1.16.0,>=1.15.0->tensorflow==1.15.0) (0.16.0)\n",
      "Building wheels for collected packages: wrapt, gast, opt-einsum\n",
      "  Running setup.py bdist_wheel for wrapt ... \u001b[?25ldone\n",
      "\u001b[?25h  Stored in directory: /Users/kalyan/Library/Caches/pip/wheels/d7/de/2e/efa132238792efb6459a96e85916ef8597fcb3d2ae51590dfd\n",
      "  Running setup.py bdist_wheel for gast ... \u001b[?25ldone\n",
      "\u001b[?25h  Stored in directory: /Users/kalyan/Library/Caches/pip/wheels/5c/2e/7e/a1d4d4fcebe6c381f378ce7743a3ced3699feb89bcfbdadadd\n",
      "  Running setup.py bdist_wheel for opt-einsum ... \u001b[?25ldone\n",
      "\u001b[?25h  Stored in directory: /Users/kalyan/Library/Caches/pip/wheels/2c/b1/94/43d03e130b929aae7ba3f8d15cbd7bc0d1cb5bb38a5c721833\n",
      "Successfully built wrapt gast opt-einsum\n",
      "\u001b[31mtensorboard 1.15.0 has requirement setuptools>=41.0.0, but you'll have setuptools 39.0.1 which is incompatible.\u001b[0m\n",
      "Installing collected packages: tensorflow-estimator, wrapt, gast, google-pasta, opt-einsum, tensorboard, tensorflow\n",
      "  Found existing installation: tensorflow-estimator 1.13.0\n",
      "    Uninstalling tensorflow-estimator-1.13.0:\n",
      "      Successfully uninstalled tensorflow-estimator-1.13.0\n",
      "  Found existing installation: gast 0.3.3\n",
      "    Uninstalling gast-0.3.3:\n",
      "      Successfully uninstalled gast-0.3.3\n",
      "  Found existing installation: tensorboard 1.13.1\n",
      "    Uninstalling tensorboard-1.13.1:\n",
      "      Successfully uninstalled tensorboard-1.13.1\n",
      "  Found existing installation: tensorflow 1.13.1\n",
      "    Uninstalling tensorflow-1.13.1:\n",
      "      Successfully uninstalled tensorflow-1.13.1\n",
      "Successfully installed gast-0.2.2 google-pasta-0.1.8 opt-einsum-3.1.0 tensorboard-1.15.0 tensorflow-1.15.0 tensorflow-estimator-1.15.1 wrapt-1.11.2\n",
      "\u001b[33mYou are using pip version 10.0.1, however version 19.3.1 is available.\n",
      "You should consider upgrading via the 'pip install --upgrade pip' command.\u001b[0m\n",
      "Requirement already satisfied: tensorflow-hub==0.1.1 in /Users/kalyan/.pyenv/versions/3.7.0/envs/trainatscale37/lib/python3.7/site-packages (0.1.1)\n",
      "Requirement already satisfied: six>=1.10.0 in /Users/kalyan/.pyenv/versions/3.7.0/envs/trainatscale37/lib/python3.7/site-packages (from tensorflow-hub==0.1.1) (1.13.0)\n",
      "Requirement already satisfied: numpy>=1.12.0 in /Users/kalyan/.pyenv/versions/3.7.0/envs/trainatscale37/lib/python3.7/site-packages (from tensorflow-hub==0.1.1) (1.18.1)\n",
      "Requirement already satisfied: protobuf>=3.4.0 in /Users/kalyan/.pyenv/versions/3.7.0/envs/trainatscale37/lib/python3.7/site-packages (from tensorflow-hub==0.1.1) (3.11.2)\n",
      "Requirement already satisfied: setuptools in /Users/kalyan/.pyenv/versions/3.7.0/envs/trainatscale37/lib/python3.7/site-packages (from protobuf>=3.4.0->tensorflow-hub==0.1.1) (39.0.1)\n",
      "\u001b[31mtensorboard 1.15.0 has requirement setuptools>=41.0.0, but you'll have setuptools 39.0.1 which is incompatible.\u001b[0m\n",
      "\u001b[33mYou are using pip version 10.0.1, however version 19.3.1 is available.\n",
      "You should consider upgrading via the 'pip install --upgrade pip' command.\u001b[0m\n"
     ]
    }
   ],
   "source": [
    "# RUN THE FIRST TIME YOU RUN THIS NOTEBOOK\n",
    "!pip install plotly==4.5.0\n",
    "!pip install tensorflow==1.15.0\n",
    "!pip install tensorflow-hub==0.1.1\n",
    "!pip install scikit-learn==0.22.1"
   ]
  },
  {
   "cell_type": "markdown",
   "metadata": {},
   "source": [
    "# Visualise Embeddings\n",
    "A tool to let you visualise sentence embeddings of all utterances in your training set. \n",
    "\n",
    "These will give you **visual clues as to how an intent classifier understands and separates utterances**."
   ]
  },
  {
   "cell_type": "code",
   "execution_count": 6,
   "metadata": {},
   "outputs": [],
   "source": [
    "# ADD FILENAME HERE (relative to data folder)\n",
    "# the file should be a CSV with columns utterance, intent; no header row\n",
    "filename = \"workspace_training/puppy_questions.csv\""
   ]
  },
  {
   "cell_type": "code",
   "execution_count": 2,
   "metadata": {},
   "outputs": [
    {
     "name": "stderr",
     "output_type": "stream",
     "text": [
      "\u001b[38;2;128;128;128m[2020-01-23 10:26:19,502]\u001b[0m \u001b[33mWARN\u001b[0m \u001b[38;2;128;128;128m(tensorflow): \u001b[0mFrom /Users/kalyan/.pyenv/versions/3.7.0/envs/trainatscale37/lib/python3.7/site-packages/tensorflow_hub/native_module.py:54: The name tf.GraphKeys is deprecated. Please use tf.compat.v1.GraphKeys instead.\n",
      "\n"
     ]
    },
    {
     "name": "stdout",
     "output_type": "stream",
     "text": [
      "WARNING:tensorflow:From /Users/kalyan/.pyenv/versions/3.7.0/envs/trainatscale37/lib/python3.7/site-packages/tensorflow_hub/native_module.py:54: The name tf.GraphKeys is deprecated. Please use tf.compat.v1.GraphKeys instead.\n",
      "\n"
     ]
    }
   ],
   "source": [
    "# external\n",
    "import pandas as pd\n",
    "import matplotlib.pyplot as plt\n",
    "from sklearn.manifold import TSNE\n",
    "import plotly.express as px\n",
    "\n",
    "import sys\n",
    "import os\n",
    "\n",
    "sys.path.append('..')\n",
    "\n",
    "# internal\n",
    "from for_csv.encoder import USEEncoder\n",
    "import config"
   ]
  },
  {
   "cell_type": "code",
   "execution_count": 7,
   "metadata": {},
   "outputs": [
    {
     "data": {
      "text/html": [
       "<div>\n",
       "<style scoped>\n",
       "    .dataframe tbody tr th:only-of-type {\n",
       "        vertical-align: middle;\n",
       "    }\n",
       "\n",
       "    .dataframe tbody tr th {\n",
       "        vertical-align: top;\n",
       "    }\n",
       "\n",
       "    .dataframe thead th {\n",
       "        text-align: right;\n",
       "    }\n",
       "</style>\n",
       "<table border=\"1\" class=\"dataframe\">\n",
       "  <thead>\n",
       "    <tr style=\"text-align: right;\">\n",
       "      <th></th>\n",
       "      <th>utterance</th>\n",
       "      <th>intent</th>\n",
       "    </tr>\n",
       "  </thead>\n",
       "  <tbody>\n",
       "    <tr>\n",
       "      <th>0</th>\n",
       "      <td>I want to buy a minature schnauzer</td>\n",
       "      <td>PURCHASE_DOG</td>\n",
       "    </tr>\n",
       "    <tr>\n",
       "      <th>1</th>\n",
       "      <td>I've looked at the pictures and I'm ready to b...</td>\n",
       "      <td>PURCHASE_DOG</td>\n",
       "    </tr>\n",
       "    <tr>\n",
       "      <th>2</th>\n",
       "      <td>I would like to buy a chinook</td>\n",
       "      <td>PURCHASE_DOG</td>\n",
       "    </tr>\n",
       "    <tr>\n",
       "      <th>3</th>\n",
       "      <td>hello, what should I do to buy a puppy?</td>\n",
       "      <td>PURCHASE_DOG</td>\n",
       "    </tr>\n",
       "    <tr>\n",
       "      <th>4</th>\n",
       "      <td>Can I buy a kaiken</td>\n",
       "      <td>PURCHASE_DOG</td>\n",
       "    </tr>\n",
       "  </tbody>\n",
       "</table>\n",
       "</div>"
      ],
      "text/plain": [
       "                                           utterance        intent\n",
       "0                 I want to buy a minature schnauzer  PURCHASE_DOG\n",
       "1  I've looked at the pictures and I'm ready to b...  PURCHASE_DOG\n",
       "2                      I would like to buy a chinook  PURCHASE_DOG\n",
       "3            hello, what should I do to buy a puppy?  PURCHASE_DOG\n",
       "4                                 Can I buy a kaiken  PURCHASE_DOG"
      ]
     },
     "execution_count": 7,
     "metadata": {},
     "output_type": "execute_result"
    }
   ],
   "source": [
    "df = pd.read_csv(os.path.join(config.data_dir, filename), header=None, names=['utterance', 'intent'])\n",
    "\n",
    "df.head()"
   ]
  },
  {
   "cell_type": "code",
   "execution_count": 8,
   "metadata": {},
   "outputs": [
    {
     "name": "stderr",
     "output_type": "stream",
     "text": [
      "\u001b[38;2;128;128;128m[2020-01-23 10:27:36,964]\u001b[0m \u001b[32mINFO\u001b[0m \u001b[38;2;128;128;128m(for_csv.encoder): \u001b[0mUSE Encoder: https://tfhub.dev/google/universal-sentence-encoder/1 Ready! dim:512\n"
     ]
    }
   ],
   "source": [
    "# get embeddings\n",
    "use = USEEncoder()\n",
    "embeddings = use.encode(df['utterance'].tolist())\n",
    "df['embedding'] = [item for item in embeddings]\n",
    "\n",
    "# project to 2D using T-SNE\n",
    "# notes on using T-SNE effectively: https://distill.pub/2016/misread-tsne/\n",
    "embeddings_2d = TSNE(n_components=2).fit_transform(df['embedding'].tolist())\n",
    "df['X0'] = embeddings_2d[:,0]\n",
    "df['X1'] = embeddings_2d[:,1]"
   ]
  },
  {
   "cell_type": "code",
   "execution_count": 11,
   "metadata": {},
   "outputs": [
    {
     "data": {
      "application/vnd.plotly.v1+json": {
       "config": {
        "plotlyServerURL": "https://plot.ly"
       },
       "data": [
        {
         "customdata": [
          [
           "I want to buy a minature schnauzer"
          ],
          [
           "I've looked at the pictures and I'm ready to buy a puppy."
          ],
          [
           "I would like to buy a chinook"
          ],
          [
           "hello, what should I do to buy a puppy?"
          ],
          [
           "Can I buy a kaiken"
          ],
          [
           "I want a dog"
          ],
          [
           "I'm looking to buy a dog"
          ],
          [
           "I'd like to buy a wolfhound"
          ],
          [
           "i want to get a puppy"
          ],
          [
           "Hi I'd like to buy a dog"
          ],
          [
           "No I wanted a puppy."
          ],
          [
           "I want to buy a chinook"
          ],
          [
           "What dog can I purchase?"
          ],
          [
           "Where can I buy a dog"
          ],
          [
           "Can I get a puppy?"
          ],
          [
           "I need a pup"
          ],
          [
           "How can I buy puppies on the internet"
          ],
          [
           "Do you sell doggies"
          ],
          [
           "where are the best deals on pups"
          ],
          [
           "can I order a doggo online"
          ],
          [
           "is it always bad to buy a dog from a farm"
          ],
          [
           "Can I buy my dog on finance"
          ],
          [
           "what is the right price for a pedigree lab"
          ],
          [
           "is £2000 too much for a FTCH collie"
          ],
          [
           "where is the puppy pricing"
          ],
          [
           "Will different pups cost different prices"
          ],
          [
           "i want to add a dog to the family. How much would it cost"
          ],
          [
           "where should I look to find a breeder for a dog"
          ]
         ],
         "hoverlabel": {
          "namelength": 0
         },
         "hovertemplate": "intent=PURCHASE_DOG<br>X0=%{x}<br>X1=%{y}<br>utterance=%{customdata[0]}",
         "legendgroup": "PURCHASE_DOG",
         "marker": {
          "color": "#636efa",
          "symbol": "circle"
         },
         "mode": "markers",
         "name": "PURCHASE_DOG",
         "showlegend": true,
         "type": "scatter",
         "x": [
          4.894296646118164,
          2.543400764465332,
          8.36910629272461,
          3.391514539718628,
          6.894773960113525,
          4.179771423339844,
          4.671232223510742,
          5.661048412322998,
          3.3411335945129395,
          4.680191993713379,
          3.883199453353882,
          8.38361930847168,
          4.322821617126465,
          4.272444248199463,
          2.913919687271118,
          3.5462710857391357,
          3.37430477142334,
          4.36688232421875,
          3.003732919692993,
          5.707629203796387,
          6.134428024291992,
          5.986186981201172,
          2.411654472351074,
          6.031678199768066,
          2.6432950496673584,
          2.0753049850463867,
          3.166015148162842,
          4.398439884185791
         ],
         "xaxis": "x",
         "y": [
          2.978593587875366,
          1.8807883262634277,
          1.7669053077697754,
          2.2651307582855225,
          1.3311821222305298,
          1.516257405281067,
          2.54577374458313,
          1.935132384300232,
          1.5693986415863037,
          2.1066386699676514,
          0.25101587176322937,
          1.765474796295166,
          2.7577476501464844,
          3.301495313644409,
          1.3136579990386963,
          1.1570783853530884,
          3.2643113136291504,
          6.5386643409729,
          3.8106603622436523,
          0.8945984244346619,
          3.9755685329437256,
          2.7101879119873047,
          5.0924177169799805,
          4.7130584716796875,
          4.19978141784668,
          4.32843542098999,
          4.7150163650512695,
          4.0493998527526855
         ],
         "yaxis": "y"
        },
        {
         "customdata": [
          [
           "how can I check if my rescue staffy is up to date with it's injections"
          ],
          [
           "I wanna get my terrier an annual set of jabs"
          ],
          [
           "my hound is not overdue its last AC jab"
          ],
          [
           "at what age do I not need to get my pooch jabs"
          ],
          [
           "does a pedigree need different immunisations to a mutt"
          ],
          [
           "I need to get some injections for my drakehead lab"
          ],
          [
           "do you need to have allthe vaccinations recommended"
          ],
          [
           "can I combine my dogs next check up with some vaccinations"
          ],
          [
           "is it illegal to not get your dog jabs"
          ],
          [
           "is there such thing as antivax for dogs"
          ],
          [
           "my little dog is not coping with vaccinations"
          ],
          [
           "can I book some shots for my dog"
          ],
          [
           "are there any vaccinations I should give my pupper next year"
          ],
          [
           "my poodle had it's first set of vaccs last week and I want to get the next set, when should I do this"
          ],
          [
           "Can you vaccinate the dog so it doesn't get sick"
          ],
          [
           "I want my puppy to be protected against disease"
          ],
          [
           "Can you immunise the dog before I get it"
          ],
          [
           "Has the pupperino had its shots"
          ],
          [
           "Has my puppy had all its injections"
          ],
          [
           "Is the dog fully vaccinated"
          ],
          [
           "How many jabs has the puppy had"
          ],
          [
           "When is the next dose due of the vaccination?"
          ],
          [
           "What about vaccinations?"
          ],
          [
           "Do I have to pay for the vaccinations?"
          ],
          [
           "what are they vaccinated against"
          ],
          [
           "do you give shots to your dogs"
          ],
          [
           "Are puppies already vaccinated?"
          ],
          [
           "Do you vaccinate your dogs?"
          ]
         ],
         "hoverlabel": {
          "namelength": 0
         },
         "hovertemplate": "intent=DOG_VACCINATIONS<br>X0=%{x}<br>X1=%{y}<br>utterance=%{customdata[0]}",
         "legendgroup": "DOG_VACCINATIONS",
         "marker": {
          "color": "#EF553B",
          "symbol": "circle"
         },
         "mode": "markers",
         "name": "DOG_VACCINATIONS",
         "showlegend": true,
         "type": "scatter",
         "x": [
          0.8025950193405151,
          2.434403896331787,
          -5.694595813751221,
          -3.3938417434692383,
          0.025201652199029922,
          -2.554313898086548,
          -0.8329800367355347,
          -0.9547455310821533,
          -0.00013063813094049692,
          -1.8333842754364014,
          -2.4358959197998047,
          0.8232145309448242,
          -0.1140100359916687,
          1.5928844213485718,
          -1.4889873266220093,
          -0.6405158638954163,
          -0.9509785175323486,
          -5.7518534660339355,
          -2.444761276245117,
          -1.1079622507095337,
          -3.876699924468994,
          0.5493430495262146,
          -0.2482595592737198,
          -1.0277314186096191,
          0.0835852101445198,
          -5.622344493865967,
          -0.6415001749992371,
          -1.24366295337677
         ],
         "xaxis": "x",
         "y": [
          -1.1433693170547485,
          -0.055623412132263184,
          -3.7104690074920654,
          2.259709596633911,
          3.811622142791748,
          -7.879349708557129,
          -8.030062675476074,
          -5.309335708618164,
          -2.372688055038452,
          -5.83763313293457,
          -4.5427045822143555,
          -3.9033913612365723,
          -5.3812031745910645,
          0.03514386713504791,
          -5.601110458374023,
          -1.9278285503387451,
          -3.3718764781951904,
          2.0942039489746094,
          -2.3653712272644043,
          -5.711869716644287,
          1.0521745681762695,
          -8.30668830871582,
          -8.32541275024414,
          -8.17046070098877,
          -8.528677940368652,
          1.4463986158370972,
          -6.318051815032959,
          -6.106419563293457
         ],
         "yaxis": "y"
        },
        {
         "customdata": [
          [
           "my pups not very happy"
          ],
          [
           "kennel cough advice"
          ],
          [
           "I want to get my dog a check up urgently. He don't seem the same"
          ],
          [
           "I think my dog has rabies"
          ],
          [
           "my puppy has been shivering all night"
          ],
          [
           "do dogs get depression"
          ],
          [
           "my puppy is not like the other puppies"
          ],
          [
           "I gave my pug coffee and now it looks sick"
          ],
          [
           "my G.S has been diagnosed with cancer and I don't know what to do"
          ],
          [
           "my pup don't look so great. What does it need"
          ],
          [
           "my chow chow is not so well well"
          ],
          [
           "how can i prevent my dog getting sick again"
          ],
          [
           "is there any common illnesses in a dog"
          ],
          [
           "my puppy is showing signs of illnes"
          ],
          [
           "my dog vomitted last night"
          ],
          [
           "Can the dog see properly"
          ],
          [
           "Has the puppy shown any signs of sickness"
          ],
          [
           "Can you tell me about the pups wellbeing"
          ],
          [
           "I'm concerned about the health of the animals"
          ],
          [
           "what is the health status of your puppies?"
          ],
          [
           "Does the animal have fleas"
          ],
          [
           "Can you tell me if the puppy is diseased"
          ],
          [
           "Has the dog been ill before"
          ],
          [
           "Is the puppy well?"
          ],
          [
           "Does the puppy look healthy?"
          ],
          [
           "Can I return the puppy if it has health issues?"
          ],
          [
           "Will you tell me if the puppy has been sick?"
          ],
          [
           "Was the litter sick for the puppy I want to get?"
          ],
          [
           "does the puppies siblings get sick?"
          ]
         ],
         "hoverlabel": {
          "namelength": 0
         },
         "hovertemplate": "intent=DOG_HEALTH<br>X0=%{x}<br>X1=%{y}<br>utterance=%{customdata[0]}",
         "legendgroup": "DOG_HEALTH",
         "marker": {
          "color": "#00cc96",
          "symbol": "circle"
         },
         "mode": "markers",
         "name": "DOG_HEALTH",
         "showlegend": true,
         "type": "scatter",
         "x": [
          -4.555481910705566,
          -3.9465575218200684,
          -2.760040760040283,
          -3.476182222366333,
          -4.118062496185303,
          -3.3269381523132324,
          -3.7313389778137207,
          -5.305219650268555,
          -3.1167192459106445,
          -5.078581809997559,
          -7.119560718536377,
          -3.875872850418091,
          -2.6705009937286377,
          -3.8577001094818115,
          -4.282357215881348,
          -1.3634482622146606,
          -2.6529064178466797,
          -1.0236351490020752,
          -7.954837799072266,
          -0.9832011461257935,
          1.365044116973877,
          -1.8469963073730469,
          -1.3608897924423218,
          -2.9592626094818115,
          -3.2361555099487305,
          -0.8048166632652283,
          -2.220592975616455,
          -1.7903282642364502,
          -2.105536699295044
         ],
         "xaxis": "x",
         "y": [
          -0.6879767179489136,
          -4.409757614135742,
          -2.7882936000823975,
          -3.2393925189971924,
          -3.176795482635498,
          -6.079640865325928,
          -0.6588129997253418,
          -2.0063562393188477,
          -8.688089370727539,
          -0.810187816619873,
          -2.215561628341675,
          -4.296733379364014,
          -5.795101642608643,
          -1.9997121095657349,
          -2.8235092163085938,
          -3.869720935821533,
          -1.6435308456420898,
          1.4945274591445923,
          -4.1340484619140625,
          1.182883381843567,
          -6.0818562507629395,
          -1.482683777809143,
          -3.100399971008301,
          0.24544838070869446,
          0.23754115402698517,
          -1.132218360900879,
          -1.5364426374435425,
          -0.37508371472358704,
          0.8392966985702515
         ],
         "yaxis": "y"
        },
        {
         "customdata": [
          [
           "I need to check the validity of my puppies mum's KCC register"
          ],
          [
           "Can I come in and look at the puppies with the mother?"
          ],
          [
           "Can I interview the parents?"
          ],
          [
           "how old is the mother?"
          ],
          [
           "Can look at the parents beforehand?"
          ],
          [
           "Does the mother get on well with children"
          ],
          [
           "Is the puppy's mum still weaning it"
          ],
          [
           "Has the bitch been vaccinated"
          ],
          [
           "Is this the mother's first litter"
          ],
          [
           "Who's the puppy's father"
          ],
          [
           "Is the father pedigree"
          ],
          [
           "are the labradoodles F1 or F2"
          ],
          [
           "I want to know more about their parenting"
          ],
          [
           "are they bred from a puppy farm or is the mother a family pet"
          ],
          [
           "where can I research my dogs ancestry"
          ],
          [
           "If both parents are pedigree, does my doggo become pedigree"
          ],
          [
           "is it a warning sign if I can't meet the parents"
          ],
          [
           "Is the dad a FTCH"
          ],
          [
           "How do I know if the mum has any EC titles"
          ],
          [
           "how long does the mum wean her pups"
          ],
          [
           "can I meet the father"
          ],
          [
           "is the dad a wirecoat or softcoat fox terrier"
          ],
          [
           "whre can I check if my dogs parentals have bred before"
          ],
          [
           "what are signs the mater is not good"
          ]
         ],
         "hoverlabel": {
          "namelength": 0
         },
         "hovertemplate": "intent=DOG_PARENTS_INFORMATION<br>X0=%{x}<br>X1=%{y}<br>utterance=%{customdata[0]}",
         "legendgroup": "DOG_PARENTS_INFORMATION",
         "marker": {
          "color": "#ab63fa",
          "symbol": "circle"
         },
         "mode": "markers",
         "name": "DOG_PARENTS_INFORMATION",
         "showlegend": true,
         "type": "scatter",
         "x": [
          -0.14759834110736847,
          0.35215866565704346,
          -5.09866189956665,
          -3.0307719707489014,
          -5.323054313659668,
          -4.47620153427124,
          -3.1530613899230957,
          -0.16270822286605835,
          -2.093755006790161,
          -0.7583215236663818,
          -1.5791980028152466,
          5.16349983215332,
          -4.7236127853393555,
          -0.7968581914901733,
          4.581489562988281,
          -0.4146398901939392,
          -5.816863536834717,
          -6.959020614624023,
          -3.1682868003845215,
          -3.1560115814208984,
          -6.967880725860596,
          -0.594057559967041,
          0.40378645062446594,
          -6.848442554473877
         ],
         "xaxis": "x",
         "y": [
          0.4918026924133301,
          1.6286964416503906,
          7.024794101715088,
          4.477755069732666,
          6.821161270141602,
          5.992110729217529,
          2.825090169906616,
          -7.185457706451416,
          3.5606846809387207,
          5.294524192810059,
          5.009006023406982,
          -1.8362345695495605,
          6.593764305114746,
          4.010249614715576,
          4.726274013519287,
          4.1357831954956055,
          6.659945011138916,
          -6.354070663452148,
          6.845955848693848,
          2.789114236831665,
          -6.754821300506592,
          5.337928295135498,
          0.7363665699958801,
          6.41642427444458
         ],
         "yaxis": "y"
        },
        {
         "customdata": [
          [
           "can my puppy eat human food"
          ],
          [
           "can my puppy eat adult food"
          ],
          [
           "do you sell dog food"
          ],
          [
           "I have just got a litter of puppies and don't know if I can feed them anything but milk"
          ],
          [
           "do dogs eat chicken"
          ],
          [
           "Do I always need to buy my dog the same food"
          ],
          [
           "What is a good serving to give a dog"
          ],
          [
           "is any dog food bad for a dogs teeth?"
          ],
          [
           "can I put gravy on my dogs food"
          ],
          [
           "is dry food bad for dogs"
          ],
          [
           "can my dog have wet food"
          ],
          [
           "can I mix my dogs food"
          ],
          [
           "how often should I feed my dog"
          ],
          [
           "what dog food do you sell"
          ],
          [
           "do dogs taste food like humans taste food"
          ],
          [
           "Can dogs eat people food"
          ],
          [
           "Is meat okay for dogs three times a day"
          ],
          [
           "Can dogs have canned food for lunch"
          ],
          [
           "Can pups eat normal meat"
          ],
          [
           "Is tinned dog food okay for puppies"
          ],
          [
           "What do puppies like to eat"
          ],
          [
           "I don't know what dogs eat"
          ],
          [
           "That's good to know. Does the food taste nice?"
          ],
          [
           "What food do you sell"
          ],
          [
           "What food do you have?"
          ],
          [
           "What sort of food do I need to get to keep the puppy happy?"
          ],
          [
           "is it bad to feed my mutt leftovers"
          ]
         ],
         "hoverlabel": {
          "namelength": 0
         },
         "hovertemplate": "intent=DOG_FOOD<br>X0=%{x}<br>X1=%{y}<br>utterance=%{customdata[0]}",
         "legendgroup": "DOG_FOOD",
         "marker": {
          "color": "#FFA15A",
          "symbol": "circle"
         },
         "mode": "markers",
         "name": "DOG_FOOD",
         "showlegend": true,
         "type": "scatter",
         "x": [
          -9.424385070800781,
          -9.180846214294434,
          -8.682098388671875,
          0.3195036053657532,
          -10.17471694946289,
          -9.003129959106445,
          2.4871342182159424,
          -10.273262023925781,
          -10.981810569763184,
          -9.874626159667969,
          -9.66857624053955,
          -10.251550674438477,
          -8.240442276000977,
          -8.581640243530273,
          -11.124616622924805,
          -10.351836204528809,
          -8.941056251525879,
          -10.630579948425293,
          -9.402565956115723,
          -9.917308807373047,
          -7.728477478027344,
          -7.915256500244141,
          -12.018649101257324,
          3.5195157527923584,
          -9.870177268981934,
          -7.060311317443848,
          -9.11687183380127
         ],
         "xaxis": "x",
         "y": [
          -0.7182204723358154,
          -0.8324295282363892,
          2.780242443084717,
          2.099402666091919,
          -1.8986318111419678,
          1.7251118421554565,
          -2.1903107166290283,
          0.809377133846283,
          0.029554925858974457,
          0.11101420223712921,
          -0.6763701438903809,
          -0.23364433646202087,
          0.5605626106262207,
          2.928734064102173,
          -1.829504132270813,
          -1.371503472328186,
          0.3327164649963379,
          -0.8915513157844543,
          -2.016475200653076,
          0.5735086798667908,
          -1.1326528787612915,
          -1.5308758020401,
          -2.0145130157470703,
          -4.601425647735596,
          -4.381699562072754,
          -0.8051321506500244,
          0.5958142876625061
         ],
         "yaxis": "y"
        }
       ],
       "layout": {
        "legend": {
         "title": {
          "text": "intent"
         },
         "tracegroupgap": 0
        },
        "margin": {
         "t": 60
        },
        "template": {
         "data": {
          "bar": [
           {
            "error_x": {
             "color": "#2a3f5f"
            },
            "error_y": {
             "color": "#2a3f5f"
            },
            "marker": {
             "line": {
              "color": "#E5ECF6",
              "width": 0.5
             }
            },
            "type": "bar"
           }
          ],
          "barpolar": [
           {
            "marker": {
             "line": {
              "color": "#E5ECF6",
              "width": 0.5
             }
            },
            "type": "barpolar"
           }
          ],
          "carpet": [
           {
            "aaxis": {
             "endlinecolor": "#2a3f5f",
             "gridcolor": "white",
             "linecolor": "white",
             "minorgridcolor": "white",
             "startlinecolor": "#2a3f5f"
            },
            "baxis": {
             "endlinecolor": "#2a3f5f",
             "gridcolor": "white",
             "linecolor": "white",
             "minorgridcolor": "white",
             "startlinecolor": "#2a3f5f"
            },
            "type": "carpet"
           }
          ],
          "choropleth": [
           {
            "colorbar": {
             "outlinewidth": 0,
             "ticks": ""
            },
            "type": "choropleth"
           }
          ],
          "contour": [
           {
            "colorbar": {
             "outlinewidth": 0,
             "ticks": ""
            },
            "colorscale": [
             [
              0,
              "#0d0887"
             ],
             [
              0.1111111111111111,
              "#46039f"
             ],
             [
              0.2222222222222222,
              "#7201a8"
             ],
             [
              0.3333333333333333,
              "#9c179e"
             ],
             [
              0.4444444444444444,
              "#bd3786"
             ],
             [
              0.5555555555555556,
              "#d8576b"
             ],
             [
              0.6666666666666666,
              "#ed7953"
             ],
             [
              0.7777777777777778,
              "#fb9f3a"
             ],
             [
              0.8888888888888888,
              "#fdca26"
             ],
             [
              1,
              "#f0f921"
             ]
            ],
            "type": "contour"
           }
          ],
          "contourcarpet": [
           {
            "colorbar": {
             "outlinewidth": 0,
             "ticks": ""
            },
            "type": "contourcarpet"
           }
          ],
          "heatmap": [
           {
            "colorbar": {
             "outlinewidth": 0,
             "ticks": ""
            },
            "colorscale": [
             [
              0,
              "#0d0887"
             ],
             [
              0.1111111111111111,
              "#46039f"
             ],
             [
              0.2222222222222222,
              "#7201a8"
             ],
             [
              0.3333333333333333,
              "#9c179e"
             ],
             [
              0.4444444444444444,
              "#bd3786"
             ],
             [
              0.5555555555555556,
              "#d8576b"
             ],
             [
              0.6666666666666666,
              "#ed7953"
             ],
             [
              0.7777777777777778,
              "#fb9f3a"
             ],
             [
              0.8888888888888888,
              "#fdca26"
             ],
             [
              1,
              "#f0f921"
             ]
            ],
            "type": "heatmap"
           }
          ],
          "heatmapgl": [
           {
            "colorbar": {
             "outlinewidth": 0,
             "ticks": ""
            },
            "colorscale": [
             [
              0,
              "#0d0887"
             ],
             [
              0.1111111111111111,
              "#46039f"
             ],
             [
              0.2222222222222222,
              "#7201a8"
             ],
             [
              0.3333333333333333,
              "#9c179e"
             ],
             [
              0.4444444444444444,
              "#bd3786"
             ],
             [
              0.5555555555555556,
              "#d8576b"
             ],
             [
              0.6666666666666666,
              "#ed7953"
             ],
             [
              0.7777777777777778,
              "#fb9f3a"
             ],
             [
              0.8888888888888888,
              "#fdca26"
             ],
             [
              1,
              "#f0f921"
             ]
            ],
            "type": "heatmapgl"
           }
          ],
          "histogram": [
           {
            "marker": {
             "colorbar": {
              "outlinewidth": 0,
              "ticks": ""
             }
            },
            "type": "histogram"
           }
          ],
          "histogram2d": [
           {
            "colorbar": {
             "outlinewidth": 0,
             "ticks": ""
            },
            "colorscale": [
             [
              0,
              "#0d0887"
             ],
             [
              0.1111111111111111,
              "#46039f"
             ],
             [
              0.2222222222222222,
              "#7201a8"
             ],
             [
              0.3333333333333333,
              "#9c179e"
             ],
             [
              0.4444444444444444,
              "#bd3786"
             ],
             [
              0.5555555555555556,
              "#d8576b"
             ],
             [
              0.6666666666666666,
              "#ed7953"
             ],
             [
              0.7777777777777778,
              "#fb9f3a"
             ],
             [
              0.8888888888888888,
              "#fdca26"
             ],
             [
              1,
              "#f0f921"
             ]
            ],
            "type": "histogram2d"
           }
          ],
          "histogram2dcontour": [
           {
            "colorbar": {
             "outlinewidth": 0,
             "ticks": ""
            },
            "colorscale": [
             [
              0,
              "#0d0887"
             ],
             [
              0.1111111111111111,
              "#46039f"
             ],
             [
              0.2222222222222222,
              "#7201a8"
             ],
             [
              0.3333333333333333,
              "#9c179e"
             ],
             [
              0.4444444444444444,
              "#bd3786"
             ],
             [
              0.5555555555555556,
              "#d8576b"
             ],
             [
              0.6666666666666666,
              "#ed7953"
             ],
             [
              0.7777777777777778,
              "#fb9f3a"
             ],
             [
              0.8888888888888888,
              "#fdca26"
             ],
             [
              1,
              "#f0f921"
             ]
            ],
            "type": "histogram2dcontour"
           }
          ],
          "mesh3d": [
           {
            "colorbar": {
             "outlinewidth": 0,
             "ticks": ""
            },
            "type": "mesh3d"
           }
          ],
          "parcoords": [
           {
            "line": {
             "colorbar": {
              "outlinewidth": 0,
              "ticks": ""
             }
            },
            "type": "parcoords"
           }
          ],
          "pie": [
           {
            "automargin": true,
            "type": "pie"
           }
          ],
          "scatter": [
           {
            "marker": {
             "colorbar": {
              "outlinewidth": 0,
              "ticks": ""
             }
            },
            "type": "scatter"
           }
          ],
          "scatter3d": [
           {
            "line": {
             "colorbar": {
              "outlinewidth": 0,
              "ticks": ""
             }
            },
            "marker": {
             "colorbar": {
              "outlinewidth": 0,
              "ticks": ""
             }
            },
            "type": "scatter3d"
           }
          ],
          "scattercarpet": [
           {
            "marker": {
             "colorbar": {
              "outlinewidth": 0,
              "ticks": ""
             }
            },
            "type": "scattercarpet"
           }
          ],
          "scattergeo": [
           {
            "marker": {
             "colorbar": {
              "outlinewidth": 0,
              "ticks": ""
             }
            },
            "type": "scattergeo"
           }
          ],
          "scattergl": [
           {
            "marker": {
             "colorbar": {
              "outlinewidth": 0,
              "ticks": ""
             }
            },
            "type": "scattergl"
           }
          ],
          "scattermapbox": [
           {
            "marker": {
             "colorbar": {
              "outlinewidth": 0,
              "ticks": ""
             }
            },
            "type": "scattermapbox"
           }
          ],
          "scatterpolar": [
           {
            "marker": {
             "colorbar": {
              "outlinewidth": 0,
              "ticks": ""
             }
            },
            "type": "scatterpolar"
           }
          ],
          "scatterpolargl": [
           {
            "marker": {
             "colorbar": {
              "outlinewidth": 0,
              "ticks": ""
             }
            },
            "type": "scatterpolargl"
           }
          ],
          "scatterternary": [
           {
            "marker": {
             "colorbar": {
              "outlinewidth": 0,
              "ticks": ""
             }
            },
            "type": "scatterternary"
           }
          ],
          "surface": [
           {
            "colorbar": {
             "outlinewidth": 0,
             "ticks": ""
            },
            "colorscale": [
             [
              0,
              "#0d0887"
             ],
             [
              0.1111111111111111,
              "#46039f"
             ],
             [
              0.2222222222222222,
              "#7201a8"
             ],
             [
              0.3333333333333333,
              "#9c179e"
             ],
             [
              0.4444444444444444,
              "#bd3786"
             ],
             [
              0.5555555555555556,
              "#d8576b"
             ],
             [
              0.6666666666666666,
              "#ed7953"
             ],
             [
              0.7777777777777778,
              "#fb9f3a"
             ],
             [
              0.8888888888888888,
              "#fdca26"
             ],
             [
              1,
              "#f0f921"
             ]
            ],
            "type": "surface"
           }
          ],
          "table": [
           {
            "cells": {
             "fill": {
              "color": "#EBF0F8"
             },
             "line": {
              "color": "white"
             }
            },
            "header": {
             "fill": {
              "color": "#C8D4E3"
             },
             "line": {
              "color": "white"
             }
            },
            "type": "table"
           }
          ]
         },
         "layout": {
          "annotationdefaults": {
           "arrowcolor": "#2a3f5f",
           "arrowhead": 0,
           "arrowwidth": 1
          },
          "coloraxis": {
           "colorbar": {
            "outlinewidth": 0,
            "ticks": ""
           }
          },
          "colorscale": {
           "diverging": [
            [
             0,
             "#8e0152"
            ],
            [
             0.1,
             "#c51b7d"
            ],
            [
             0.2,
             "#de77ae"
            ],
            [
             0.3,
             "#f1b6da"
            ],
            [
             0.4,
             "#fde0ef"
            ],
            [
             0.5,
             "#f7f7f7"
            ],
            [
             0.6,
             "#e6f5d0"
            ],
            [
             0.7,
             "#b8e186"
            ],
            [
             0.8,
             "#7fbc41"
            ],
            [
             0.9,
             "#4d9221"
            ],
            [
             1,
             "#276419"
            ]
           ],
           "sequential": [
            [
             0,
             "#0d0887"
            ],
            [
             0.1111111111111111,
             "#46039f"
            ],
            [
             0.2222222222222222,
             "#7201a8"
            ],
            [
             0.3333333333333333,
             "#9c179e"
            ],
            [
             0.4444444444444444,
             "#bd3786"
            ],
            [
             0.5555555555555556,
             "#d8576b"
            ],
            [
             0.6666666666666666,
             "#ed7953"
            ],
            [
             0.7777777777777778,
             "#fb9f3a"
            ],
            [
             0.8888888888888888,
             "#fdca26"
            ],
            [
             1,
             "#f0f921"
            ]
           ],
           "sequentialminus": [
            [
             0,
             "#0d0887"
            ],
            [
             0.1111111111111111,
             "#46039f"
            ],
            [
             0.2222222222222222,
             "#7201a8"
            ],
            [
             0.3333333333333333,
             "#9c179e"
            ],
            [
             0.4444444444444444,
             "#bd3786"
            ],
            [
             0.5555555555555556,
             "#d8576b"
            ],
            [
             0.6666666666666666,
             "#ed7953"
            ],
            [
             0.7777777777777778,
             "#fb9f3a"
            ],
            [
             0.8888888888888888,
             "#fdca26"
            ],
            [
             1,
             "#f0f921"
            ]
           ]
          },
          "colorway": [
           "#636efa",
           "#EF553B",
           "#00cc96",
           "#ab63fa",
           "#FFA15A",
           "#19d3f3",
           "#FF6692",
           "#B6E880",
           "#FF97FF",
           "#FECB52"
          ],
          "font": {
           "color": "#2a3f5f"
          },
          "geo": {
           "bgcolor": "white",
           "lakecolor": "white",
           "landcolor": "#E5ECF6",
           "showlakes": true,
           "showland": true,
           "subunitcolor": "white"
          },
          "hoverlabel": {
           "align": "left"
          },
          "hovermode": "closest",
          "mapbox": {
           "style": "light"
          },
          "paper_bgcolor": "white",
          "plot_bgcolor": "#E5ECF6",
          "polar": {
           "angularaxis": {
            "gridcolor": "white",
            "linecolor": "white",
            "ticks": ""
           },
           "bgcolor": "#E5ECF6",
           "radialaxis": {
            "gridcolor": "white",
            "linecolor": "white",
            "ticks": ""
           }
          },
          "scene": {
           "xaxis": {
            "backgroundcolor": "#E5ECF6",
            "gridcolor": "white",
            "gridwidth": 2,
            "linecolor": "white",
            "showbackground": true,
            "ticks": "",
            "zerolinecolor": "white"
           },
           "yaxis": {
            "backgroundcolor": "#E5ECF6",
            "gridcolor": "white",
            "gridwidth": 2,
            "linecolor": "white",
            "showbackground": true,
            "ticks": "",
            "zerolinecolor": "white"
           },
           "zaxis": {
            "backgroundcolor": "#E5ECF6",
            "gridcolor": "white",
            "gridwidth": 2,
            "linecolor": "white",
            "showbackground": true,
            "ticks": "",
            "zerolinecolor": "white"
           }
          },
          "shapedefaults": {
           "line": {
            "color": "#2a3f5f"
           }
          },
          "ternary": {
           "aaxis": {
            "gridcolor": "white",
            "linecolor": "white",
            "ticks": ""
           },
           "baxis": {
            "gridcolor": "white",
            "linecolor": "white",
            "ticks": ""
           },
           "bgcolor": "#E5ECF6",
           "caxis": {
            "gridcolor": "white",
            "linecolor": "white",
            "ticks": ""
           }
          },
          "title": {
           "x": 0.05
          },
          "xaxis": {
           "automargin": true,
           "gridcolor": "white",
           "linecolor": "white",
           "ticks": "",
           "title": {
            "standoff": 15
           },
           "zerolinecolor": "white",
           "zerolinewidth": 2
          },
          "yaxis": {
           "automargin": true,
           "gridcolor": "white",
           "linecolor": "white",
           "ticks": "",
           "title": {
            "standoff": 15
           },
           "zerolinecolor": "white",
           "zerolinewidth": 2
          }
         }
        },
        "xaxis": {
         "anchor": "y",
         "domain": [
          0,
          1
         ],
         "title": {
          "text": "X0"
         }
        },
        "yaxis": {
         "anchor": "x",
         "domain": [
          0,
          1
         ],
         "title": {
          "text": "X1"
         }
        }
       }
      },
      "text/html": [
       "<div>\n",
       "        \n",
       "        \n",
       "            <div id=\"22748db2-fbc8-4335-8651-f2555a696e55\" class=\"plotly-graph-div\" style=\"height:525px; width:100%;\"></div>\n",
       "            <script type=\"text/javascript\">\n",
       "                require([\"plotly\"], function(Plotly) {\n",
       "                    window.PLOTLYENV=window.PLOTLYENV || {};\n",
       "                    \n",
       "                if (document.getElementById(\"22748db2-fbc8-4335-8651-f2555a696e55\")) {\n",
       "                    Plotly.newPlot(\n",
       "                        '22748db2-fbc8-4335-8651-f2555a696e55',\n",
       "                        [{\"customdata\": [[\"I want to buy a minature schnauzer\"], [\"I've looked at the pictures and I'm ready to buy a puppy.\"], [\"I would like to buy a chinook\"], [\"hello, what should I do to buy a puppy?\"], [\"Can I buy a kaiken\"], [\"I want a dog\"], [\"I'm looking to buy a dog\"], [\"I'd like to buy a wolfhound\"], [\"i want to get a puppy\"], [\"Hi I'd like to buy a dog\"], [\"No I wanted a puppy.\"], [\"I want to buy a chinook\"], [\"What dog can I purchase?\"], [\"Where can I buy a dog\"], [\"Can I get a puppy?\"], [\"I need a pup\"], [\"How can I buy puppies on the internet\"], [\"Do you sell doggies\"], [\"where are the best deals on pups\"], [\"can I order a doggo online\"], [\"is it always bad to buy a dog from a farm\"], [\"Can I buy my dog on finance\"], [\"what is the right price for a pedigree lab\"], [\"is \\u00a32000 too much for a FTCH collie\"], [\"where is the puppy pricing\"], [\"Will different pups cost different prices\"], [\"i want to add a dog to the family. How much would it cost\"], [\"where should I look to find a breeder for a dog\"]], \"hoverlabel\": {\"namelength\": 0}, \"hovertemplate\": \"intent=PURCHASE_DOG<br>X0=%{x}<br>X1=%{y}<br>utterance=%{customdata[0]}\", \"legendgroup\": \"PURCHASE_DOG\", \"marker\": {\"color\": \"#636efa\", \"symbol\": \"circle\"}, \"mode\": \"markers\", \"name\": \"PURCHASE_DOG\", \"showlegend\": true, \"type\": \"scatter\", \"x\": [4.894296646118164, 2.543400764465332, 8.36910629272461, 3.391514539718628, 6.894773960113525, 4.179771423339844, 4.671232223510742, 5.661048412322998, 3.3411335945129395, 4.680191993713379, 3.883199453353882, 8.38361930847168, 4.322821617126465, 4.272444248199463, 2.913919687271118, 3.5462710857391357, 3.37430477142334, 4.36688232421875, 3.003732919692993, 5.707629203796387, 6.134428024291992, 5.986186981201172, 2.411654472351074, 6.031678199768066, 2.6432950496673584, 2.0753049850463867, 3.166015148162842, 4.398439884185791], \"xaxis\": \"x\", \"y\": [2.978593587875366, 1.8807883262634277, 1.7669053077697754, 2.2651307582855225, 1.3311821222305298, 1.516257405281067, 2.54577374458313, 1.935132384300232, 1.5693986415863037, 2.1066386699676514, 0.25101587176322937, 1.765474796295166, 2.7577476501464844, 3.301495313644409, 1.3136579990386963, 1.1570783853530884, 3.2643113136291504, 6.5386643409729, 3.8106603622436523, 0.8945984244346619, 3.9755685329437256, 2.7101879119873047, 5.0924177169799805, 4.7130584716796875, 4.19978141784668, 4.32843542098999, 4.7150163650512695, 4.0493998527526855], \"yaxis\": \"y\"}, {\"customdata\": [[\"how can I check if my rescue staffy is up to date with it's injections\"], [\"I wanna get my terrier an annual set of jabs\"], [\"my hound is not overdue its last AC jab\"], [\"at what age do I not need to get my pooch jabs\"], [\"does a pedigree need different immunisations to a mutt\"], [\"I need to get some injections for my drakehead lab\"], [\"do you need to have allthe vaccinations recommended\"], [\"can I combine my dogs next check up with some vaccinations\"], [\"is it illegal to not get your dog jabs\"], [\"is there such thing as antivax for dogs\"], [\"my little dog is not coping with vaccinations\"], [\"can I book some shots for my dog\"], [\"are there any vaccinations I should give my pupper next year\"], [\"my poodle had it's first set of vaccs last week and I want to get the next set, when should I do this\"], [\"Can you vaccinate the dog so it doesn't get sick\"], [\"I want my puppy to be protected against disease\"], [\"Can you immunise the dog before I get it\"], [\"Has the pupperino had its shots\"], [\"Has my puppy had all its injections\"], [\"Is the dog fully vaccinated\"], [\"How many jabs has the puppy had\"], [\"When is the next dose due of the vaccination?\"], [\"What about vaccinations?\"], [\"Do I have to pay for the vaccinations?\"], [\"what are they vaccinated against\"], [\"do you give shots to your dogs\"], [\"Are puppies already vaccinated?\"], [\"Do you vaccinate your dogs?\"]], \"hoverlabel\": {\"namelength\": 0}, \"hovertemplate\": \"intent=DOG_VACCINATIONS<br>X0=%{x}<br>X1=%{y}<br>utterance=%{customdata[0]}\", \"legendgroup\": \"DOG_VACCINATIONS\", \"marker\": {\"color\": \"#EF553B\", \"symbol\": \"circle\"}, \"mode\": \"markers\", \"name\": \"DOG_VACCINATIONS\", \"showlegend\": true, \"type\": \"scatter\", \"x\": [0.8025950193405151, 2.434403896331787, -5.694595813751221, -3.3938417434692383, 0.025201652199029922, -2.554313898086548, -0.8329800367355347, -0.9547455310821533, -0.00013063813094049692, -1.8333842754364014, -2.4358959197998047, 0.8232145309448242, -0.1140100359916687, 1.5928844213485718, -1.4889873266220093, -0.6405158638954163, -0.9509785175323486, -5.7518534660339355, -2.444761276245117, -1.1079622507095337, -3.876699924468994, 0.5493430495262146, -0.2482595592737198, -1.0277314186096191, 0.0835852101445198, -5.622344493865967, -0.6415001749992371, -1.24366295337677], \"xaxis\": \"x\", \"y\": [-1.1433693170547485, -0.055623412132263184, -3.7104690074920654, 2.259709596633911, 3.811622142791748, -7.879349708557129, -8.030062675476074, -5.309335708618164, -2.372688055038452, -5.83763313293457, -4.5427045822143555, -3.9033913612365723, -5.3812031745910645, 0.03514386713504791, -5.601110458374023, -1.9278285503387451, -3.3718764781951904, 2.0942039489746094, -2.3653712272644043, -5.711869716644287, 1.0521745681762695, -8.30668830871582, -8.32541275024414, -8.17046070098877, -8.528677940368652, 1.4463986158370972, -6.318051815032959, -6.106419563293457], \"yaxis\": \"y\"}, {\"customdata\": [[\"my pups not very happy\"], [\"kennel cough advice\"], [\"I want to get my dog a check up urgently. He don't seem the same\"], [\"I think my dog has rabies\"], [\"my puppy has been shivering all night\"], [\"do dogs get depression\"], [\"my puppy is not like the other puppies\"], [\"I gave my pug coffee and now it looks sick\"], [\"my G.S has been diagnosed with cancer and I don't know what to do\"], [\"my pup don't look so great. What does it need\"], [\"my chow chow is not so well well\"], [\"how can i prevent my dog getting sick again\"], [\"is there any common illnesses in a dog\"], [\"my puppy is showing signs of illnes\"], [\"my dog vomitted last night\"], [\"Can the dog see properly\"], [\"Has the puppy shown any signs of sickness\"], [\"Can you tell me about the pups wellbeing\"], [\"I'm concerned about the health of the animals\"], [\"what is the health status of your puppies?\"], [\"Does the animal have fleas\"], [\"Can you tell me if the puppy is diseased\"], [\"Has the dog been ill before\"], [\"Is the puppy well?\"], [\"Does the puppy look healthy?\"], [\"Can I return the puppy if it has health issues?\"], [\"Will you tell me if the puppy has been sick?\"], [\"Was the litter sick for the puppy I want to get?\"], [\"does the puppies siblings get sick?\"]], \"hoverlabel\": {\"namelength\": 0}, \"hovertemplate\": \"intent=DOG_HEALTH<br>X0=%{x}<br>X1=%{y}<br>utterance=%{customdata[0]}\", \"legendgroup\": \"DOG_HEALTH\", \"marker\": {\"color\": \"#00cc96\", \"symbol\": \"circle\"}, \"mode\": \"markers\", \"name\": \"DOG_HEALTH\", \"showlegend\": true, \"type\": \"scatter\", \"x\": [-4.555481910705566, -3.9465575218200684, -2.760040760040283, -3.476182222366333, -4.118062496185303, -3.3269381523132324, -3.7313389778137207, -5.305219650268555, -3.1167192459106445, -5.078581809997559, -7.119560718536377, -3.875872850418091, -2.6705009937286377, -3.8577001094818115, -4.282357215881348, -1.3634482622146606, -2.6529064178466797, -1.0236351490020752, -7.954837799072266, -0.9832011461257935, 1.365044116973877, -1.8469963073730469, -1.3608897924423218, -2.9592626094818115, -3.2361555099487305, -0.8048166632652283, -2.220592975616455, -1.7903282642364502, -2.105536699295044], \"xaxis\": \"x\", \"y\": [-0.6879767179489136, -4.409757614135742, -2.7882936000823975, -3.2393925189971924, -3.176795482635498, -6.079640865325928, -0.6588129997253418, -2.0063562393188477, -8.688089370727539, -0.810187816619873, -2.215561628341675, -4.296733379364014, -5.795101642608643, -1.9997121095657349, -2.8235092163085938, -3.869720935821533, -1.6435308456420898, 1.4945274591445923, -4.1340484619140625, 1.182883381843567, -6.0818562507629395, -1.482683777809143, -3.100399971008301, 0.24544838070869446, 0.23754115402698517, -1.132218360900879, -1.5364426374435425, -0.37508371472358704, 0.8392966985702515], \"yaxis\": \"y\"}, {\"customdata\": [[\"I need to check the validity of my puppies mum's KCC register\"], [\"Can I come in and look at the puppies with the mother?\"], [\"Can I interview the parents?\"], [\"how old is the mother?\"], [\"Can look at the parents beforehand?\"], [\"Does the mother get on well with children\"], [\"Is the puppy's mum still weaning it\"], [\"Has the bitch been vaccinated\"], [\"Is this the mother's first litter\"], [\"Who's the puppy's father\"], [\"Is the father pedigree\"], [\"are the labradoodles F1 or F2\"], [\"I want to know more about their parenting\"], [\"are they bred from a puppy farm or is the mother a family pet\"], [\"where can I research my dogs ancestry\"], [\"If both parents are pedigree, does my doggo become pedigree\"], [\"is it a warning sign if I can't meet the parents\"], [\"Is the dad a FTCH\"], [\"How do I know if the mum has any EC titles\"], [\"how long does the mum wean her pups\"], [\"can I meet the father\"], [\"is the dad a wirecoat or softcoat fox terrier\"], [\"whre can I check if my dogs parentals have bred before\"], [\"what are signs the mater is not good\"]], \"hoverlabel\": {\"namelength\": 0}, \"hovertemplate\": \"intent=DOG_PARENTS_INFORMATION<br>X0=%{x}<br>X1=%{y}<br>utterance=%{customdata[0]}\", \"legendgroup\": \"DOG_PARENTS_INFORMATION\", \"marker\": {\"color\": \"#ab63fa\", \"symbol\": \"circle\"}, \"mode\": \"markers\", \"name\": \"DOG_PARENTS_INFORMATION\", \"showlegend\": true, \"type\": \"scatter\", \"x\": [-0.14759834110736847, 0.35215866565704346, -5.09866189956665, -3.0307719707489014, -5.323054313659668, -4.47620153427124, -3.1530613899230957, -0.16270822286605835, -2.093755006790161, -0.7583215236663818, -1.5791980028152466, 5.16349983215332, -4.7236127853393555, -0.7968581914901733, 4.581489562988281, -0.4146398901939392, -5.816863536834717, -6.959020614624023, -3.1682868003845215, -3.1560115814208984, -6.967880725860596, -0.594057559967041, 0.40378645062446594, -6.848442554473877], \"xaxis\": \"x\", \"y\": [0.4918026924133301, 1.6286964416503906, 7.024794101715088, 4.477755069732666, 6.821161270141602, 5.992110729217529, 2.825090169906616, -7.185457706451416, 3.5606846809387207, 5.294524192810059, 5.009006023406982, -1.8362345695495605, 6.593764305114746, 4.010249614715576, 4.726274013519287, 4.1357831954956055, 6.659945011138916, -6.354070663452148, 6.845955848693848, 2.789114236831665, -6.754821300506592, 5.337928295135498, 0.7363665699958801, 6.41642427444458], \"yaxis\": \"y\"}, {\"customdata\": [[\"can my puppy eat human food\"], [\"can my puppy eat adult food\"], [\"do you sell dog food\"], [\"I have just got a litter of puppies and don't know if I can feed them anything but milk\"], [\"do dogs eat chicken\"], [\"Do I always need to buy my dog the same food\"], [\"What is a good serving to give a dog\"], [\"is any dog food bad for a dogs teeth?\"], [\"can I put gravy on my dogs food\"], [\"is dry food bad for dogs\"], [\"can my dog have wet food\"], [\"can I mix my dogs food\"], [\"how often should I feed my dog\"], [\"what dog food do you sell\"], [\"do dogs taste food like humans taste food\"], [\"Can dogs eat people food\"], [\"Is meat okay for dogs three times a day\"], [\"Can dogs have canned food for lunch\"], [\"Can pups eat normal meat\"], [\"Is tinned dog food okay for puppies\"], [\"What do puppies like to eat\"], [\"I don't know what dogs eat\"], [\"That's good to know. Does the food taste nice?\"], [\"What food do you sell\"], [\"What food do you have?\"], [\"What sort of food do I need to get to keep the puppy happy?\"], [\"is it bad to feed my mutt leftovers\"]], \"hoverlabel\": {\"namelength\": 0}, \"hovertemplate\": \"intent=DOG_FOOD<br>X0=%{x}<br>X1=%{y}<br>utterance=%{customdata[0]}\", \"legendgroup\": \"DOG_FOOD\", \"marker\": {\"color\": \"#FFA15A\", \"symbol\": \"circle\"}, \"mode\": \"markers\", \"name\": \"DOG_FOOD\", \"showlegend\": true, \"type\": \"scatter\", \"x\": [-9.424385070800781, -9.180846214294434, -8.682098388671875, 0.3195036053657532, -10.17471694946289, -9.003129959106445, 2.4871342182159424, -10.273262023925781, -10.981810569763184, -9.874626159667969, -9.66857624053955, -10.251550674438477, -8.240442276000977, -8.581640243530273, -11.124616622924805, -10.351836204528809, -8.941056251525879, -10.630579948425293, -9.402565956115723, -9.917308807373047, -7.728477478027344, -7.915256500244141, -12.018649101257324, 3.5195157527923584, -9.870177268981934, -7.060311317443848, -9.11687183380127], \"xaxis\": \"x\", \"y\": [-0.7182204723358154, -0.8324295282363892, 2.780242443084717, 2.099402666091919, -1.8986318111419678, 1.7251118421554565, -2.1903107166290283, 0.809377133846283, 0.029554925858974457, 0.11101420223712921, -0.6763701438903809, -0.23364433646202087, 0.5605626106262207, 2.928734064102173, -1.829504132270813, -1.371503472328186, 0.3327164649963379, -0.8915513157844543, -2.016475200653076, 0.5735086798667908, -1.1326528787612915, -1.5308758020401, -2.0145130157470703, -4.601425647735596, -4.381699562072754, -0.8051321506500244, 0.5958142876625061], \"yaxis\": \"y\"}],\n",
       "                        {\"legend\": {\"title\": {\"text\": \"intent\"}, \"tracegroupgap\": 0}, \"margin\": {\"t\": 60}, \"template\": {\"data\": {\"bar\": [{\"error_x\": {\"color\": \"#2a3f5f\"}, \"error_y\": {\"color\": \"#2a3f5f\"}, \"marker\": {\"line\": {\"color\": \"#E5ECF6\", \"width\": 0.5}}, \"type\": \"bar\"}], \"barpolar\": [{\"marker\": {\"line\": {\"color\": \"#E5ECF6\", \"width\": 0.5}}, \"type\": \"barpolar\"}], \"carpet\": [{\"aaxis\": {\"endlinecolor\": \"#2a3f5f\", \"gridcolor\": \"white\", \"linecolor\": \"white\", \"minorgridcolor\": \"white\", \"startlinecolor\": \"#2a3f5f\"}, \"baxis\": {\"endlinecolor\": \"#2a3f5f\", \"gridcolor\": \"white\", \"linecolor\": \"white\", \"minorgridcolor\": \"white\", \"startlinecolor\": \"#2a3f5f\"}, \"type\": \"carpet\"}], \"choropleth\": [{\"colorbar\": {\"outlinewidth\": 0, \"ticks\": \"\"}, \"type\": \"choropleth\"}], \"contour\": [{\"colorbar\": {\"outlinewidth\": 0, \"ticks\": \"\"}, \"colorscale\": [[0.0, \"#0d0887\"], [0.1111111111111111, \"#46039f\"], [0.2222222222222222, \"#7201a8\"], [0.3333333333333333, \"#9c179e\"], [0.4444444444444444, \"#bd3786\"], [0.5555555555555556, \"#d8576b\"], [0.6666666666666666, \"#ed7953\"], [0.7777777777777778, \"#fb9f3a\"], [0.8888888888888888, \"#fdca26\"], [1.0, \"#f0f921\"]], \"type\": \"contour\"}], \"contourcarpet\": [{\"colorbar\": {\"outlinewidth\": 0, \"ticks\": \"\"}, \"type\": \"contourcarpet\"}], \"heatmap\": [{\"colorbar\": {\"outlinewidth\": 0, \"ticks\": \"\"}, \"colorscale\": [[0.0, \"#0d0887\"], [0.1111111111111111, \"#46039f\"], [0.2222222222222222, \"#7201a8\"], [0.3333333333333333, \"#9c179e\"], [0.4444444444444444, \"#bd3786\"], [0.5555555555555556, \"#d8576b\"], [0.6666666666666666, \"#ed7953\"], [0.7777777777777778, \"#fb9f3a\"], [0.8888888888888888, \"#fdca26\"], [1.0, \"#f0f921\"]], \"type\": \"heatmap\"}], \"heatmapgl\": [{\"colorbar\": {\"outlinewidth\": 0, \"ticks\": \"\"}, \"colorscale\": [[0.0, \"#0d0887\"], [0.1111111111111111, \"#46039f\"], [0.2222222222222222, \"#7201a8\"], [0.3333333333333333, \"#9c179e\"], [0.4444444444444444, \"#bd3786\"], [0.5555555555555556, \"#d8576b\"], [0.6666666666666666, \"#ed7953\"], [0.7777777777777778, \"#fb9f3a\"], [0.8888888888888888, \"#fdca26\"], [1.0, \"#f0f921\"]], \"type\": \"heatmapgl\"}], \"histogram\": [{\"marker\": {\"colorbar\": {\"outlinewidth\": 0, \"ticks\": \"\"}}, \"type\": \"histogram\"}], \"histogram2d\": [{\"colorbar\": {\"outlinewidth\": 0, \"ticks\": \"\"}, \"colorscale\": [[0.0, \"#0d0887\"], [0.1111111111111111, \"#46039f\"], [0.2222222222222222, \"#7201a8\"], [0.3333333333333333, \"#9c179e\"], [0.4444444444444444, \"#bd3786\"], [0.5555555555555556, \"#d8576b\"], [0.6666666666666666, \"#ed7953\"], [0.7777777777777778, \"#fb9f3a\"], [0.8888888888888888, \"#fdca26\"], [1.0, \"#f0f921\"]], \"type\": \"histogram2d\"}], \"histogram2dcontour\": [{\"colorbar\": {\"outlinewidth\": 0, \"ticks\": \"\"}, \"colorscale\": [[0.0, \"#0d0887\"], [0.1111111111111111, \"#46039f\"], [0.2222222222222222, \"#7201a8\"], [0.3333333333333333, \"#9c179e\"], [0.4444444444444444, \"#bd3786\"], [0.5555555555555556, \"#d8576b\"], [0.6666666666666666, \"#ed7953\"], [0.7777777777777778, \"#fb9f3a\"], [0.8888888888888888, \"#fdca26\"], [1.0, \"#f0f921\"]], \"type\": \"histogram2dcontour\"}], \"mesh3d\": [{\"colorbar\": {\"outlinewidth\": 0, \"ticks\": \"\"}, \"type\": \"mesh3d\"}], \"parcoords\": [{\"line\": {\"colorbar\": {\"outlinewidth\": 0, \"ticks\": \"\"}}, \"type\": \"parcoords\"}], \"pie\": [{\"automargin\": true, \"type\": \"pie\"}], \"scatter\": [{\"marker\": {\"colorbar\": {\"outlinewidth\": 0, \"ticks\": \"\"}}, \"type\": \"scatter\"}], \"scatter3d\": [{\"line\": {\"colorbar\": {\"outlinewidth\": 0, \"ticks\": \"\"}}, \"marker\": {\"colorbar\": {\"outlinewidth\": 0, \"ticks\": \"\"}}, \"type\": \"scatter3d\"}], \"scattercarpet\": [{\"marker\": {\"colorbar\": {\"outlinewidth\": 0, \"ticks\": \"\"}}, \"type\": \"scattercarpet\"}], \"scattergeo\": [{\"marker\": {\"colorbar\": {\"outlinewidth\": 0, \"ticks\": \"\"}}, \"type\": \"scattergeo\"}], \"scattergl\": [{\"marker\": {\"colorbar\": {\"outlinewidth\": 0, \"ticks\": \"\"}}, \"type\": \"scattergl\"}], \"scattermapbox\": [{\"marker\": {\"colorbar\": {\"outlinewidth\": 0, \"ticks\": \"\"}}, \"type\": \"scattermapbox\"}], \"scatterpolar\": [{\"marker\": {\"colorbar\": {\"outlinewidth\": 0, \"ticks\": \"\"}}, \"type\": \"scatterpolar\"}], \"scatterpolargl\": [{\"marker\": {\"colorbar\": {\"outlinewidth\": 0, \"ticks\": \"\"}}, \"type\": \"scatterpolargl\"}], \"scatterternary\": [{\"marker\": {\"colorbar\": {\"outlinewidth\": 0, \"ticks\": \"\"}}, \"type\": \"scatterternary\"}], \"surface\": [{\"colorbar\": {\"outlinewidth\": 0, \"ticks\": \"\"}, \"colorscale\": [[0.0, \"#0d0887\"], [0.1111111111111111, \"#46039f\"], [0.2222222222222222, \"#7201a8\"], [0.3333333333333333, \"#9c179e\"], [0.4444444444444444, \"#bd3786\"], [0.5555555555555556, \"#d8576b\"], [0.6666666666666666, \"#ed7953\"], [0.7777777777777778, \"#fb9f3a\"], [0.8888888888888888, \"#fdca26\"], [1.0, \"#f0f921\"]], \"type\": \"surface\"}], \"table\": [{\"cells\": {\"fill\": {\"color\": \"#EBF0F8\"}, \"line\": {\"color\": \"white\"}}, \"header\": {\"fill\": {\"color\": \"#C8D4E3\"}, \"line\": {\"color\": \"white\"}}, \"type\": \"table\"}]}, \"layout\": {\"annotationdefaults\": {\"arrowcolor\": \"#2a3f5f\", \"arrowhead\": 0, \"arrowwidth\": 1}, \"coloraxis\": {\"colorbar\": {\"outlinewidth\": 0, \"ticks\": \"\"}}, \"colorscale\": {\"diverging\": [[0, \"#8e0152\"], [0.1, \"#c51b7d\"], [0.2, \"#de77ae\"], [0.3, \"#f1b6da\"], [0.4, \"#fde0ef\"], [0.5, \"#f7f7f7\"], [0.6, \"#e6f5d0\"], [0.7, \"#b8e186\"], [0.8, \"#7fbc41\"], [0.9, \"#4d9221\"], [1, \"#276419\"]], \"sequential\": [[0.0, \"#0d0887\"], [0.1111111111111111, \"#46039f\"], [0.2222222222222222, \"#7201a8\"], [0.3333333333333333, \"#9c179e\"], [0.4444444444444444, \"#bd3786\"], [0.5555555555555556, \"#d8576b\"], [0.6666666666666666, \"#ed7953\"], [0.7777777777777778, \"#fb9f3a\"], [0.8888888888888888, \"#fdca26\"], [1.0, \"#f0f921\"]], \"sequentialminus\": [[0.0, \"#0d0887\"], [0.1111111111111111, \"#46039f\"], [0.2222222222222222, \"#7201a8\"], [0.3333333333333333, \"#9c179e\"], [0.4444444444444444, \"#bd3786\"], [0.5555555555555556, \"#d8576b\"], [0.6666666666666666, \"#ed7953\"], [0.7777777777777778, \"#fb9f3a\"], [0.8888888888888888, \"#fdca26\"], [1.0, \"#f0f921\"]]}, \"colorway\": [\"#636efa\", \"#EF553B\", \"#00cc96\", \"#ab63fa\", \"#FFA15A\", \"#19d3f3\", \"#FF6692\", \"#B6E880\", \"#FF97FF\", \"#FECB52\"], \"font\": {\"color\": \"#2a3f5f\"}, \"geo\": {\"bgcolor\": \"white\", \"lakecolor\": \"white\", \"landcolor\": \"#E5ECF6\", \"showlakes\": true, \"showland\": true, \"subunitcolor\": \"white\"}, \"hoverlabel\": {\"align\": \"left\"}, \"hovermode\": \"closest\", \"mapbox\": {\"style\": \"light\"}, \"paper_bgcolor\": \"white\", \"plot_bgcolor\": \"#E5ECF6\", \"polar\": {\"angularaxis\": {\"gridcolor\": \"white\", \"linecolor\": \"white\", \"ticks\": \"\"}, \"bgcolor\": \"#E5ECF6\", \"radialaxis\": {\"gridcolor\": \"white\", \"linecolor\": \"white\", \"ticks\": \"\"}}, \"scene\": {\"xaxis\": {\"backgroundcolor\": \"#E5ECF6\", \"gridcolor\": \"white\", \"gridwidth\": 2, \"linecolor\": \"white\", \"showbackground\": true, \"ticks\": \"\", \"zerolinecolor\": \"white\"}, \"yaxis\": {\"backgroundcolor\": \"#E5ECF6\", \"gridcolor\": \"white\", \"gridwidth\": 2, \"linecolor\": \"white\", \"showbackground\": true, \"ticks\": \"\", \"zerolinecolor\": \"white\"}, \"zaxis\": {\"backgroundcolor\": \"#E5ECF6\", \"gridcolor\": \"white\", \"gridwidth\": 2, \"linecolor\": \"white\", \"showbackground\": true, \"ticks\": \"\", \"zerolinecolor\": \"white\"}}, \"shapedefaults\": {\"line\": {\"color\": \"#2a3f5f\"}}, \"ternary\": {\"aaxis\": {\"gridcolor\": \"white\", \"linecolor\": \"white\", \"ticks\": \"\"}, \"baxis\": {\"gridcolor\": \"white\", \"linecolor\": \"white\", \"ticks\": \"\"}, \"bgcolor\": \"#E5ECF6\", \"caxis\": {\"gridcolor\": \"white\", \"linecolor\": \"white\", \"ticks\": \"\"}}, \"title\": {\"x\": 0.05}, \"xaxis\": {\"automargin\": true, \"gridcolor\": \"white\", \"linecolor\": \"white\", \"ticks\": \"\", \"title\": {\"standoff\": 15}, \"zerolinecolor\": \"white\", \"zerolinewidth\": 2}, \"yaxis\": {\"automargin\": true, \"gridcolor\": \"white\", \"linecolor\": \"white\", \"ticks\": \"\", \"title\": {\"standoff\": 15}, \"zerolinecolor\": \"white\", \"zerolinewidth\": 2}}}, \"xaxis\": {\"anchor\": \"y\", \"domain\": [0.0, 1.0], \"title\": {\"text\": \"X0\"}}, \"yaxis\": {\"anchor\": \"x\", \"domain\": [0.0, 1.0], \"title\": {\"text\": \"X1\"}}},\n",
       "                        {\"responsive\": true}\n",
       "                    ).then(function(){\n",
       "                            \n",
       "var gd = document.getElementById('22748db2-fbc8-4335-8651-f2555a696e55');\n",
       "var x = new MutationObserver(function (mutations, observer) {{\n",
       "        var display = window.getComputedStyle(gd).display;\n",
       "        if (!display || display === 'none') {{\n",
       "            console.log([gd, 'removed!']);\n",
       "            Plotly.purge(gd);\n",
       "            observer.disconnect();\n",
       "        }}\n",
       "}});\n",
       "\n",
       "// Listen for the removal of the full notebook cells\n",
       "var notebookContainer = gd.closest('#notebook-container');\n",
       "if (notebookContainer) {{\n",
       "    x.observe(notebookContainer, {childList: true});\n",
       "}}\n",
       "\n",
       "// Listen for the clearing of the current output cell\n",
       "var outputEl = gd.closest('.output');\n",
       "if (outputEl) {{\n",
       "    x.observe(outputEl, {childList: true});\n",
       "}}\n",
       "\n",
       "                        })\n",
       "                };\n",
       "                });\n",
       "            </script>\n",
       "        </div>"
      ]
     },
     "metadata": {},
     "output_type": "display_data"
    }
   ],
   "source": [
    "def plot_embeddings_pex(df):\n",
    "    fig = px.scatter(df, x='X0', y='X1', color='intent', hover_data=['utterance'])\n",
    "    fig.show()\n",
    "    \n",
    "plot_embeddings_pex(df)"
   ]
  },
  {
   "cell_type": "code",
   "execution_count": null,
   "metadata": {},
   "outputs": [],
   "source": []
  }
 ],
 "metadata": {
  "hide_input": false,
  "kernelspec": {
   "display_name": "Python 3",
   "language": "python",
   "name": "python3"
  },
  "language_info": {
   "codemirror_mode": {
    "name": "ipython",
    "version": 3
   },
   "file_extension": ".py",
   "mimetype": "text/x-python",
   "name": "python",
   "nbconvert_exporter": "python",
   "pygments_lexer": "ipython3",
   "version": "3.7.0"
  },
  "toc": {
   "base_numbering": 1,
   "nav_menu": {},
   "number_sections": true,
   "sideBar": true,
   "skip_h1_title": false,
   "title_cell": "Table of Contents",
   "title_sidebar": "Contents",
   "toc_cell": false,
   "toc_position": {},
   "toc_section_display": true,
   "toc_window_display": false
  }
 },
 "nbformat": 4,
 "nbformat_minor": 4
}
